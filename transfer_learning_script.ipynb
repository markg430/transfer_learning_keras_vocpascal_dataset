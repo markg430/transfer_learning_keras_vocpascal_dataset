{
 "cells": [
  {
   "cell_type": "code",
   "execution_count": 75,
   "metadata": {},
   "outputs": [
    {
     "name": "stdout",
     "output_type": "stream",
     "text": [
      "TF version: 2.3.1\n",
      "Hub version: 0.7.0\n",
      "GPU is available\n"
     ]
    }
   ],
   "source": [
    "%config IPCompleter.greedy=True\n",
    "\n",
    "import itertools\n",
    "import os\n",
    "import pandas as pd\n",
    "os.environ['TFHUB_MODEL_LOAD_FORMAT'] = 'COMPRESSED'\n",
    "\n",
    "import cv2\n",
    "import matplotlib.pylab as plt\n",
    "import numpy as np\n",
    "import tensorflow as tf\n",
    "from PIL import Image\n",
    "import tensorflow_hub as hub\n",
    "\n",
    "print(\"TF version:\", tf.__version__)\n",
    "print(\"Hub version:\", hub.__version__)\n",
    "print(\"GPU is\", \"available\" if tf.test.is_gpu_available() else \"NOT AVAILABLE\")\n"
   ]
  },
  {
   "cell_type": "code",
   "execution_count": 76,
   "metadata": {},
   "outputs": [],
   "source": [
    "##### Get Voc Training Dataset\n",
    "voc_dir = r\"D:\\voc2007\"\n",
    "\n",
    "labels = [\"person\", \"car\", \"bus\", \"bicycle\", \"motorbike\", \"aeroplane\"]\n",
    "\n",
    "data_train_all = pd.DataFrame(columns=[\"img_id\"] + labels)\n",
    "data_val_all = pd.DataFrame(columns=[\"img_id\"] + labels)\n",
    "\n",
    "# Get Dataset and put it into a table\n",
    "for i in range(len(labels)):\n",
    "    data_train = pd.read_csv(voc_dir + '\\ImageSets\\Main\\{}_train.txt'.format(labels[i]),header = None,index_col=False ,delim_whitespace=True, dtype={0:np.str, 1:np.int})\n",
    "    data_val = pd.read_csv(voc_dir + '\\ImageSets\\Main\\{}_val.txt'.format(labels[i]), header= None ,index_col=False ,delim_whitespace=True, dtype={0:np.str, 1:np.int})\n",
    "    \n",
    "    if(i == 0):\n",
    "        data_train_all['img_id'] = data_train[0]\n",
    "        data_val_all['img_id']  = data_val[0]\n",
    "\n",
    "    data_train_all[labels[i]] = data_train[1]\n",
    "    data_val_all[labels[i]]  = data_val[1]\n"
   ]
  },
  {
   "cell_type": "code",
   "execution_count": 77,
   "metadata": {},
   "outputs": [],
   "source": [
    "##### Data Preprocessing\n",
    "dataset_train_counter = {x:0 for x in labels}\n",
    "rows_to_del_train = []\n",
    "\n",
    "# get no. objects in dataset + delete rows with no relative objects\n",
    "for i in range(len(data_train_all.index)):\n",
    "    row = data_train_all.iloc[i]\n",
    "    counter = 0\n",
    "    for label in labels:\n",
    "        \n",
    "        if(row[label] == 1):\n",
    "            dataset_train_counter[label] += 1\n",
    "        elif(row[label] == -1):\n",
    "            counter += 1\n",
    "        \n",
    "    if(counter == len(labels)):\n",
    "        rows_to_del_train.append(row['img_id'])\n",
    "\n",
    "# max_vals_train = max(dataset_train_counter, key=dataset_train_counter.get)\n",
    "\n",
    "# delete rows with people to reduce bias\n",
    "data_train_person = data_train_all.loc[data_train_all['person'] == 1]\n",
    "how_many_person_to_delete = 500\n",
    "deleted_person = 0\n",
    "for i in range(len(data_train_person)):\n",
    "    if(deleted_person == how_many_person_to_delete):\n",
    "        break\n",
    "        \n",
    "    row = data_train_person.iloc[i]\n",
    "    \n",
    "    for label in labels:\n",
    "        if((row[label] != 'person') & (row[label] == 1)):\n",
    "            continue\n",
    "            \n",
    "    if(counter == (len(labels) - 1)):\n",
    "        deleted_person += 1\n",
    "        rows_to_del_train.append(row['img_id'])\n",
    "\n",
    "dataset_train_counter['person'] =  dataset_train_counter['person'] - how_many_person_to_delete\n",
    "\n",
    "for img_id in rows_to_del_train:\n",
    "\n",
    "    data_train_all.drop(data_train_all.loc[data_train_all['img_id'] == img_id].index, inplace=True)\n",
    "    \n"
   ]
  },
  {
   "cell_type": "code",
   "execution_count": 78,
   "metadata": {},
   "outputs": [],
   "source": [
    "# Make a script to seperate data into subfolders\n",
    "\n",
    "# make validation a 20/80 split\n",
    "crop_val_rows = int(0.2*(len(data_train_all.index)/(0.8)))\n",
    "data_val_all = data_val_all[:crop_val_rows]\n",
    "\n",
    "for label in labels:\n",
    "    try:\n",
    "        os.makedirs(voc_dir + r\"\\voc_submodules_train\\{}\".format(label))\n",
    "    except FileExistsError:\n",
    "        pass\n",
    "    \n",
    "    try:\n",
    "        os.makedirs(voc_dir + r\"\\voc_submodules_val\\{}\".format(label))\n",
    "    except FileExistsError:\n",
    "        pass\n",
    "\n",
    "    \n",
    "for i, row in data_train_all.iterrows():\n",
    "    for label in labels:\n",
    "        if(row[label] == 1):\n",
    "            shutil.copyfile(voc_dir + r'\\JPEGImages\\{}.jpg'.format(row['img_id']), \n",
    "                            voc_dir + r'\\voc_submodules_train\\{}\\{}.jpg'.format(label, row['img_id']) )\n",
    "            \n",
    "for i, row in data_val_all.iterrows():\n",
    "    for label in labels:\n",
    "        if(row[label] == 1):\n",
    "            shutil.copyfile(voc_dir + r'\\JPEGImages\\{}.jpg'.format(row['img_id']), \n",
    "                            voc_dir + r'\\voc_submodules_val\\{}\\{}.jpg'.format(label, row['img_id']) )\n",
    "\n",
    "\n"
   ]
  },
  {
   "cell_type": "code",
   "execution_count": 105,
   "metadata": {},
   "outputs": [
    {
     "name": "stdout",
     "output_type": "stream",
     "text": [
      "Found 1846 images belonging to 6 classes.\n",
      "Found 259 images belonging to 6 classes.\n"
     ]
    }
   ],
   "source": [
    "train_data_dir =voc_dir + r'\\voc_submodules_train\\\\'\n",
    "test_data_dir = voc_dir + r'\\voc_submodules_val\\\\'\n",
    "#try diff scale hyper params\n",
    "scale = 128 \n",
    "\n",
    "train_datagen = tf.keras.preprocessing.image.ImageDataGenerator(\n",
    "        rotation_range=50.,\n",
    "        width_shift_range = 0.2,\n",
    "        height_shift_range = 0.2,\n",
    "        rescale=1. / scale,\n",
    "        shear_range=0.2,\n",
    "        zoom_range=0.2,\n",
    "        horizontal_flip=True\n",
    "#         vertical_flip = True\n",
    "    )\n",
    "\n",
    "train_generator = train_datagen.flow_from_directory(\n",
    "        train_data_dir,\n",
    "        shuffle = True,\n",
    "        target_size=(IMAGE_SHAPE[0], IMAGE_SHAPE[1]),\n",
    "        batch_size=BATCH_SIZE,\n",
    "        class_mode='categorical')\n",
    "\n",
    "val_generator = train_datagen.flow_from_directory(\n",
    "        test_data_dir,\n",
    "        shuffle = True,\n",
    "        target_size=(IMAGE_SHAPE[0], IMAGE_SHAPE[1]),\n",
    "        batch_size=BATCH_SIZE,\n",
    "        class_mode='categorical')"
   ]
  },
  {
   "cell_type": "code",
   "execution_count": 113,
   "metadata": {},
   "outputs": [
    {
     "name": "stdout",
     "output_type": "stream",
     "text": [
      "Model: \"sequential_16\"\n",
      "_________________________________________________________________\n",
      "Layer (type)                 Output Shape              Param #   \n",
      "=================================================================\n",
      "keras_layer_16 (KerasLayer)  (None, 1280)              2257984   \n",
      "_________________________________________________________________\n",
      "dropout_9 (Dropout)          (None, 1280)              0         \n",
      "_________________________________________________________________\n",
      "dense_13 (Dense)             (None, 6)                 7686      \n",
      "=================================================================\n",
      "Total params: 2,265,670\n",
      "Trainable params: 7,686\n",
      "Non-trainable params: 2,257,984\n",
      "_________________________________________________________________\n"
     ]
    }
   ],
   "source": [
    "# classifier_model = \"https://tfhub.dev/google/tf2-preview/mobilenet_v2/feature_vector/4\"\n",
    "\n",
    "model = tf.keras.Sequential([\n",
    "    # input layer already specified in classifier\n",
    "    tf.keras.layers.InputLayer(input_shape=IMAGE_SHAPE + (3,)),\n",
    "    hub.KerasLayer(classifier_model, trainable=False),\n",
    "    tf.keras.layers.Dropout(rate=0.2),\n",
    "    tf.keras.layers.Dense(train_generator.num_classes,\n",
    "                         kernel_regularizer=tf.keras.regularizers.l2(0.0001))\n",
    "\n",
    "])\n",
    "\n",
    "model.summary()"
   ]
  },
  {
   "cell_type": "code",
   "execution_count": 114,
   "metadata": {},
   "outputs": [],
   "source": [
    "model.compile(\n",
    "    optimizer=tf.keras.optimizers.Adam(),\n",
    "#     optimizer=tf.keras.optimizers.SGD(lr=0.005, momentum=0.9),\n",
    "    loss=tf.keras.losses.CategoricalCrossentropy(from_logits=True),\n",
    "    metrics=['accuracy'])"
   ]
  },
  {
   "cell_type": "code",
   "execution_count": 115,
   "metadata": {},
   "outputs": [
    {
     "name": "stdout",
     "output_type": "stream",
     "text": [
      "Epoch 1/10\n",
      "58/58 [==============================] - 27s 463ms/step - loss: 1.3748 - accuracy: 0.5406 - val_loss: 1.0038 - val_accuracy: 0.6062\n",
      "Epoch 2/10\n",
      "58/58 [==============================] - 26s 449ms/step - loss: 0.9055 - accuracy: 0.6701 - val_loss: 0.8394 - val_accuracy: 0.6757\n",
      "Epoch 3/10\n",
      "58/58 [==============================] - 27s 464ms/step - loss: 0.8465 - accuracy: 0.6961 - val_loss: 0.8940 - val_accuracy: 0.6988\n",
      "Epoch 4/10\n",
      "58/58 [==============================] - 27s 472ms/step - loss: 0.8518 - accuracy: 0.6934 - val_loss: 0.8376 - val_accuracy: 0.6988\n",
      "Epoch 5/10\n",
      "58/58 [==============================] - 26s 456ms/step - loss: 0.7869 - accuracy: 0.7124 - val_loss: 0.8225 - val_accuracy: 0.6834\n",
      "Epoch 6/10\n",
      "58/58 [==============================] - 27s 463ms/step - loss: 0.7526 - accuracy: 0.7107 - val_loss: 0.8092 - val_accuracy: 0.6988\n",
      "Epoch 7/10\n",
      "58/58 [==============================] - 27s 459ms/step - loss: 0.7426 - accuracy: 0.7151 - val_loss: 0.8597 - val_accuracy: 0.6950\n",
      "Epoch 8/10\n",
      "58/58 [==============================] - 26s 447ms/step - loss: 0.7404 - accuracy: 0.7237 - val_loss: 0.8314 - val_accuracy: 0.6911\n",
      "Epoch 9/10\n",
      "58/58 [==============================] - 27s 458ms/step - loss: 0.7311 - accuracy: 0.7232 - val_loss: 0.8448 - val_accuracy: 0.6911\n",
      "Epoch 10/10\n",
      "58/58 [==============================] - 27s 460ms/step - loss: 0.7262 - accuracy: 0.7248 - val_loss: 0.8620 - val_accuracy: 0.7143\n"
     ]
    }
   ],
   "source": [
    "history = model.fit(train_generator, \n",
    "                    epochs=10,\n",
    "                    validation_data= val_generator)"
   ]
  },
  {
   "cell_type": "code",
   "execution_count": 116,
   "metadata": {},
   "outputs": [
    {
     "data": {
      "image/png": "[encoded data removed]",
      "text/plain": [
       "<Figure size 576x576 with 2 Axes>"
      ]
     },
     "metadata": {
      "needs_background": "light"
     },
     "output_type": "display_data"
    }
   ],
   "source": [
    "acc = history.history['accuracy']\n",
    "val_acc = history.history['val_accuracy']\n",
    "\n",
    "loss = history.history['loss']\n",
    "val_loss = history.history['val_loss']\n",
    "\n",
    "plt.figure(figsize=(8, 8))\n",
    "plt.subplot(2, 1, 1)\n",
    "plt.plot(acc, label='Training Accuracy')\n",
    "plt.plot(val_acc, label='Validation Accuracy')\n",
    "plt.legend(loc='lower right')\n",
    "plt.ylabel('Accuracy')\n",
    "plt.ylim([min(plt.ylim()),1])\n",
    "plt.title('Training and Validation Accuracy')\n",
    "\n",
    "plt.subplot(2, 1, 2)\n",
    "plt.plot(loss, label='Training Loss')\n",
    "plt.plot(val_loss, label='Validation Loss')\n",
    "plt.legend(loc='upper right')\n",
    "plt.ylabel('Cross Entropy')\n",
    "plt.ylim([0,1.0])\n",
    "plt.title('Training and Validation Loss')\n",
    "plt.xlabel('epoch')\n",
    "plt.show()"
   ]
  },
  {
   "cell_type": "code",
   "execution_count": null,
   "metadata": {},
   "outputs": [],
   "source": []
  }
 ],
 "metadata": {
  "kernelspec": {
   "display_name": "Python 3",
   "language": "python",
   "name": "python3"
  },
  "language_info": {
   "codemirror_mode": {
    "name": "ipython",
    "version": 3
   },
   "file_extension": ".py",
   "mimetype": "text/x-python",
   "name": "python",
   "nbconvert_exporter": "python",
   "pygments_lexer": "ipython3",
   "version": "3.7.4"
  }
 },
 "nbformat": 4,
 "nbformat_minor": 4
}
