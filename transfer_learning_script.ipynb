{
 "cells": [
  {
   "cell_type": "code",
   "execution_count": 1,
   "metadata": {},
   "outputs": [
    {
     "name": "stdout",
     "output_type": "stream",
     "text": [
      "TF version: 2.3.1\n",
      "Hub version: 0.7.0\n",
      "WARNING:tensorflow:From <ipython-input-1-f00a10e1daa5>:18: is_gpu_available (from tensorflow.python.framework.test_util) is deprecated and will be removed in a future version.\n",
      "Instructions for updating:\n",
      "Use `tf.config.list_physical_devices('GPU')` instead.\n",
      "GPU is available\n"
     ]
    }
   ],
   "source": [
    "%config IPCompleter.greedy=True\n",
    "\n",
    "import itertools\n",
    "import os, shutil\n",
    "import pandas as pd\n",
    "import time\n",
    "os.environ['TFHUB_MODEL_LOAD_FORMAT'] = 'COMPRESSED'\n",
    "\n",
    "import cv2\n",
    "import matplotlib.pylab as plt\n",
    "import numpy as np\n",
    "import tensorflow as tf\n",
    "from PIL import Image\n",
    "import tensorflow_hub as hub\n",
    "\n",
    "print(\"TF version:\", tf.__version__)\n",
    "print(\"Hub version:\", hub.__version__)\n",
    "print(\"GPU is\", \"available\" if tf.test.is_gpu_available() else \"NOT AVAILABLE\")\n",
    "\n",
    "IMAGE_SHAPE = (224,224)\n",
    "BATCH_SIZE = 32"
   ]
  },
  {
   "cell_type": "code",
   "execution_count": 110,
   "metadata": {},
   "outputs": [
    {
     "name": "stdout",
     "output_type": "stream",
     "text": [
      "{'person': 4087, 'car': 1161, 'bus': 421, 'bicycle': 552, 'motorbike': 526, 'bird': 765}\n",
      "{'person': 587, 'car': 788, 'bus': 272, 'bicycle': 301, 'motorbike': 275, 'bird': 745}\n",
      "{'person': 587, 'car': 288, 'bus': 216, 'bicycle': 286, 'motorbike': 248, 'bird': 743}\n",
      "{'person': 587, 'car': 288, 'bus': 216, 'bicycle': 286, 'motorbike': 248, 'bird': 293}\n"
     ]
    }
   ],
   "source": [
    "##### Get Voc Training Dataset\n",
    "voc_dir = r\"D:\\voc2012\"\n",
    "\n",
    "labels = [\"person\", \"car\", \"bus\", \"bicycle\", \"motorbike\",\"bird\"]\n",
    "\n",
    "data_trainval_all = pd.DataFrame(columns=[\"img_id\"] + labels)\n",
    "\n",
    "# Get Dataset and put it into a table\n",
    "for i in range(len(labels)):\n",
    "    data_trainval = pd.read_csv(voc_dir + '\\ImageSets\\Main\\{}_trainval.txt'.format(labels[i]),header = None,index_col=False ,delim_whitespace=True, dtype={0:np.str, 1:np.int})\n",
    "    \n",
    "    if(i == 0):\n",
    "        data_trainval_all['img_id'] = data_trainval[0]\n",
    "\n",
    "    data_trainval_all[labels[i]] = data_trainval[1]\n",
    "\n",
    "# get no. objects in dataset + delete rows with no relative objects\n",
    "def remove_excluded_objects(data_trainval_all, labels):\n",
    "\n",
    "    rows_to_del_trainval = []\n",
    "    dataset_trainval_counter = {x:0 for x in labels}\n",
    "    \n",
    "    for i in range(len(data_trainval_all.index)):\n",
    "        row = data_trainval_all.iloc[i]\n",
    "        counter = 0\n",
    "        for label in labels:\n",
    "\n",
    "            if(row[label] == 1):\n",
    "                dataset_trainval_counter[label] += 1\n",
    "            elif(row[label] == -1):\n",
    "                counter += 1\n",
    "\n",
    "        if(counter == len(labels)):\n",
    "            rows_to_del_trainval.append(row['img_id'])\n",
    "\n",
    "    for img_id in rows_to_del_trainval:\n",
    "\n",
    "        data_trainval_all.drop(data_trainval_all.loc[data_trainval_all['img_id'] == img_id].index, inplace=True)\n",
    "\n",
    "            \n",
    "    print(dataset_trainval_counter)\n",
    "\n",
    "def number_of_objects(data_trainval_all, labels):\n",
    "    \n",
    "    dataset_trainval_counter = {x:0 for x in labels}\n",
    "    \n",
    "    for i in range(len(data_trainval_all.index)):\n",
    "        row = data_trainval_all.iloc[i]\n",
    "\n",
    "        for label in labels:\n",
    "\n",
    "            if(row[label] == 1):\n",
    "                dataset_trainval_counter[label] += 1\n",
    "            \n",
    "    print(dataset_trainval_counter)\n",
    "\n",
    "# delete rows with people to reduce bias\n",
    "def decrease_class_amount(data_trainval_all, object_name, delete_amount, labels):\n",
    "    rows_to_del_trainval = []\n",
    "\n",
    "    data_trainval_object = data_trainval_all.loc[data_trainval_all[object_name] == 1]\n",
    "    how_many_ofobject_to_delete = delete_amount\n",
    "    deleted_object = 0\n",
    "    \n",
    "    for i in range(len(data_trainval_object)):\n",
    "        \n",
    "        if(deleted_object == how_many_ofobject_to_delete):\n",
    "            break\n",
    "        \n",
    "        row = data_trainval_object.iloc[i]\n",
    "        rows_to_del_trainval.append(row['img_id'])\n",
    "        deleted_object += 1\n",
    "\n",
    "    for img_id in rows_to_del_trainval:\n",
    "\n",
    "        data_trainval_all.drop(data_trainval_all.loc[data_trainval_all['img_id'] == img_id].index, inplace=True)\n",
    "\n",
    "remove_excluded_objects(data_trainval_all,labels)\n",
    "# number_of_objects(data_trainval_all,labels)\n",
    "\n",
    "# Delete X amount of samples per label in order to even out the distribution\n",
    "decrease_class_amount(data_trainval_all, \"person\", 3500, labels)\n",
    "number_of_objects(data_trainval_all,labels)\n",
    "decrease_class_amount(data_trainval_all, \"car\", 500, labels)\n",
    "number_of_objects(data_trainval_all,labels)\n",
    "decrease_class_amount(data_trainval_all, \"bird\", 450, labels)\n",
    "number_of_objects(data_trainval_all,labels)\n",
    "\n",
    "\n",
    "# make dataset a 80/20 split\n",
    "\n",
    "train_size = int(len(data_trainval_all.index)*0.8)\n",
    "val_size = len(data_trainval_all.index) - train_size\n",
    "\n",
    "data_train_all = data_trainval_all.iloc[:train_size]\n",
    "data_val_all = data_trainval_all.iloc[train_size:]\n"
   ]
  },
  {
   "cell_type": "code",
   "execution_count": 111,
   "metadata": {},
   "outputs": [
    {
     "name": "stdout",
     "output_type": "stream",
     "text": [
      "Finished Splitting Subfolders\n"
     ]
    }
   ],
   "source": [
    "# Make a script to seperate data into subfolders\n",
    "\n",
    "for label in labels:\n",
    "    try:\n",
    "        os.makedirs(voc_dir + r\"\\voc_submodules_train\\{}\".format(label))\n",
    "    except FileExistsError:\n",
    "        pass\n",
    "    \n",
    "    try:\n",
    "        os.makedirs(voc_dir + r\"\\voc_submodules_val\\{}\".format(label))\n",
    "    except FileExistsError:\n",
    "        pass\n",
    "\n",
    "    \n",
    "for i, row in data_train_all.iterrows():\n",
    "    for label in labels:\n",
    "        if(row[label] == 1):\n",
    "            shutil.copyfile(voc_dir + r'\\JPEGImages\\{}.jpg'.format(row['img_id']), \n",
    "                            voc_dir + r'\\voc_submodules_train\\{}\\{}.jpg'.format(label, row['img_id']) )\n",
    "            \n",
    "for i, row in data_val_all.iterrows():\n",
    "    for label in labels:\n",
    "        if(row[label] == 1):\n",
    "            shutil.copyfile(voc_dir + r'\\JPEGImages\\{}.jpg'.format(row['img_id']), \n",
    "                            voc_dir + r'\\voc_submodules_val\\{}\\{}.jpg'.format(label, row['img_id']) )\n",
    "\n",
    "print(\"Finished Splitting Subfolders\")\n"
   ]
  },
  {
   "cell_type": "code",
   "execution_count": 112,
   "metadata": {},
   "outputs": [
    {
     "name": "stdout",
     "output_type": "stream",
     "text": [
      "Found 1521 images belonging to 6 classes.\n",
      "Found 460 images belonging to 6 classes.\n"
     ]
    }
   ],
   "source": [
    "train_data_dir =voc_dir + r'\\voc_submodules_train\\\\'\n",
    "test_data_dir = voc_dir + r'\\voc_submodules_val\\\\'\n",
    "#try diff scale hyper params\n",
    "\n",
    "train_datagen = tf.keras.preprocessing.image.ImageDataGenerator(\n",
    "        rotation_range=40.,\n",
    "#         width_shift_range = 0.2,\n",
    "#         height_shift_range = 0.2,\n",
    "        shear_range=0.2,\n",
    "        zoom_range=0.2,\n",
    "        horizontal_flip=True\n",
    "    )\n",
    "\n",
    "train_generator = train_datagen.flow_from_directory(\n",
    "        train_data_dir,\n",
    "#         shuffle = True,\n",
    "        target_size=(IMAGE_SHAPE[0], IMAGE_SHAPE[1]),\n",
    "        batch_size=BATCH_SIZE,\n",
    "        class_mode='categorical')\n",
    "\n",
    "val_generator = train_datagen.flow_from_directory(\n",
    "        test_data_dir,\n",
    "#         shuffle = True,\n",
    "        target_size=(IMAGE_SHAPE[0], IMAGE_SHAPE[1]),\n",
    "        batch_size=BATCH_SIZE,\n",
    "        class_mode='categorical')"
   ]
  },
  {
   "cell_type": "code",
   "execution_count": 113,
   "metadata": {},
   "outputs": [
    {
     "name": "stdout",
     "output_type": "stream",
     "text": [
      "Model: \"sequential_22\"\n",
      "_________________________________________________________________\n",
      "Layer (type)                 Output Shape              Param #   \n",
      "=================================================================\n",
      "rescaling_18 (Rescaling)     (None, 224, 224, 3)       0         \n",
      "_________________________________________________________________\n",
      "normalization_16 (Normalizat (None, 224, 224, 3)       7         \n",
      "_________________________________________________________________\n",
      "keras_layer_22 (KerasLayer)  (None, 1280)              3413024   \n",
      "_________________________________________________________________\n",
      "dropout_22 (Dropout)         (None, 1280)              0         \n",
      "_________________________________________________________________\n",
      "dense_22 (Dense)             (None, 6)                 7686      \n",
      "=================================================================\n",
      "Total params: 3,420,717\n",
      "Trainable params: 7,686\n",
      "Non-trainable params: 3,413,031\n",
      "_________________________________________________________________\n"
     ]
    }
   ],
   "source": [
    "###### MobilenetV2\n",
    "# classifier_model = \"https://tfhub.dev/google/imagenet/mobilenet_v2_100_224/feature_vector/4\"\n",
    "# classifier_model = \"https://tfhub.dev/google/tf2-preview/mobilenet_v2/feature_vector/4\"\n",
    "\n",
    "###### Efficientnet b0 -> for 224x224 images\n",
    "# classifier_model = \"https://tfhub.dev/tensorflow/efficientnet/b0/feature-vector/1\"\n",
    "# classifier_model = \"https://tfhub.dev/google/efficientnet/b0/feature-vector/1\"\n",
    "classifier_model = \"https://tfhub.dev/tensorflow/efficientnet/lite0/feature-vector/2\"\n",
    "\n",
    "###### Resnet v50\n",
    "# classifier_model = \"https://tfhub.dev/google/imagenet/resnet_v2_50/feature_vector/4\"\n",
    "\n",
    "\n",
    "\n",
    "model = tf.keras.Sequential([\n",
    "    # input layer already specified in classifier\n",
    "    tf.keras.layers.InputLayer(input_shape=IMAGE_SHAPE + (3,)),\n",
    "    tf.keras.layers.experimental.preprocessing.Rescaling( scale = 1./255),\n",
    "    tf.keras.layers.experimental.preprocessing.Normalization(),\n",
    "    hub.KerasLayer(classifier_model, trainable=False),\n",
    "    tf.keras.layers.Dropout(rate=0.2),\n",
    "    tf.keras.layers.Dense(train_generator.num_classes, \n",
    "                          kernel_regularizer=tf.keras.regularizers.l2(0.0005),\n",
    "                          activation='softmax')\n",
    "\n",
    "])\n",
    "\n",
    "model.summary()"
   ]
  },
  {
   "cell_type": "code",
   "execution_count": 114,
   "metadata": {},
   "outputs": [],
   "source": [
    "model.compile(\n",
    "    optimizer=tf.keras.optimizers.Adam(lr = 0.001),\n",
    "#     optimizer=tf.keras.optimizers.SGD(lr=0.005, momentum=0.9),\n",
    "    loss=tf.keras.losses.CategoricalCrossentropy(from_logits=True),\n",
    "    metrics=['accuracy'])"
   ]
  },
  {
   "cell_type": "code",
   "execution_count": 115,
   "metadata": {},
   "outputs": [
    {
     "name": "stdout",
     "output_type": "stream",
     "text": [
      "epoch: 0 | current lr: 0.0010000000474974513\n",
      "Epoch 1/15\n",
      "48/48 [==============================] - 37s 761ms/step - loss: 1.5726 - accuracy: 0.5431 - val_loss: 1.4575 - val_accuracy: 0.6543\n",
      "epoch: 1 | current lr: 0.0010000000474974513\n",
      "Epoch 2/15\n",
      "48/48 [==============================] - 26s 534ms/step - loss: 1.3335 - accuracy: 0.7778 - val_loss: 1.3995 - val_accuracy: 0.6870\n",
      "epoch: 2 | current lr: 0.0010000000474974513\n",
      "Epoch 3/15\n",
      "48/48 [==============================] - 26s 540ms/step - loss: 1.2816 - accuracy: 0.8100 - val_loss: 1.3973 - val_accuracy: 0.6826\n",
      "epoch: 3 | current lr: 0.0010000000474974513\n",
      "Epoch 4/15\n",
      "48/48 [==============================] - 26s 548ms/step - loss: 1.2665 - accuracy: 0.8113 - val_loss: 1.3783 - val_accuracy: 0.6957\n",
      "epoch: 4 | current lr: 0.0010000000474974513\n",
      "Epoch 5/15\n",
      "48/48 [==============================] - 26s 551ms/step - loss: 1.2556 - accuracy: 0.8231 - val_loss: 1.3797 - val_accuracy: 0.6870\n",
      "epoch: 5 | current lr: 0.0010000000474974513\n",
      "Epoch 6/15\n",
      "48/48 [==============================] - 26s 539ms/step - loss: 1.2487 - accuracy: 0.8212 - val_loss: 1.3692 - val_accuracy: 0.6935\n",
      "epoch: 6 | current lr: 0.0010000000474974513\n",
      "Epoch 7/15\n",
      "48/48 [==============================] - 27s 559ms/step - loss: 1.2458 - accuracy: 0.8310 - val_loss: 1.3671 - val_accuracy: 0.7000\n",
      "epoch: 7 | current lr: 0.0010000000474974513\n",
      "Epoch 8/15\n",
      "48/48 [==============================] - 26s 544ms/step - loss: 1.2388 - accuracy: 0.8369 - val_loss: 1.3528 - val_accuracy: 0.7152\n",
      "epoch: 8 | current lr: 0.0010000000474974513\n",
      "Epoch 9/15\n",
      "48/48 [==============================] - 26s 548ms/step - loss: 1.2332 - accuracy: 0.8422 - val_loss: 1.3603 - val_accuracy: 0.7130\n",
      "epoch: 9 | current lr: 0.0010000000474974513\n",
      "Epoch 10/15\n",
      "48/48 [==============================] - 26s 543ms/step - loss: 1.2311 - accuracy: 0.8416 - val_loss: 1.3648 - val_accuracy: 0.7000\n",
      "epoch: 10 | current lr: 0.0010000000474974513\n",
      "Epoch 11/15\n",
      "48/48 [==============================] - 26s 541ms/step - loss: 1.2289 - accuracy: 0.8488 - val_loss: 1.3575 - val_accuracy: 0.7130\n",
      "epoch: 11 | current lr: 9.999999747378752e-06\n",
      "Epoch 12/15\n",
      "48/48 [==============================] - 26s 550ms/step - loss: 1.2260 - accuracy: 0.8475 - val_loss: 1.3599 - val_accuracy: 0.7043\n",
      "epoch: 12 | current lr: 9.999999747378752e-06\n",
      "Epoch 13/15\n",
      "48/48 [==============================] - 26s 543ms/step - loss: 1.2335 - accuracy: 0.8402 - val_loss: 1.3666 - val_accuracy: 0.7043\n",
      "epoch: 13 | current lr: 9.999999747378752e-06\n",
      "Epoch 14/15\n",
      "48/48 [==============================] - 27s 553ms/step - loss: 1.2260 - accuracy: 0.8494 - val_loss: 1.3616 - val_accuracy: 0.7130\n",
      "epoch: 14 | current lr: 9.999999747378752e-06\n",
      "Epoch 15/15\n",
      "48/48 [==============================] - 26s 540ms/step - loss: 1.2263 - accuracy: 0.8481 - val_loss: 1.3699 - val_accuracy: 0.6913\n"
     ]
    }
   ],
   "source": [
    "# go for a 3:4:5 learning rate when retraining. e.g ~ 10^-3/10^-4... etc\n",
    "\n",
    "def scheduler(epoch):\n",
    "    print(\"epoch: {} | current lr: {}\".format(epoch,tf.keras.backend.eval(model.optimizer.lr)))\n",
    "    \n",
    "    if epoch == 10:\n",
    "        model.optimizer.lr = 0.00001\n",
    "    if epoch == 30:\n",
    "        model.optimizer.lr = 0.000001\n",
    "    return tf.keras.backend.eval(model.optimizer.lr)\n",
    "\n",
    "change_lr = tf.keras.callbacks.LearningRateScheduler(scheduler)\n",
    "\n",
    "history = model.fit(train_generator, \n",
    "                    epochs=15,\n",
    "                    validation_data= val_generator,\n",
    "                    callbacks=[change_lr])"
   ]
  },
  {
   "cell_type": "code",
   "execution_count": 116,
   "metadata": {},
   "outputs": [
    {
     "data": {
      "image/png": "[encoded data removed]",
      "text/plain": [
       "<Figure size 576x576 with 2 Axes>"
      ]
     },
     "metadata": {
      "needs_background": "light"
     },
     "output_type": "display_data"
    }
   ],
   "source": [
    "acc = history.history['accuracy']\n",
    "val_acc = history.history['val_accuracy']\n",
    "\n",
    "loss = history.history['loss']\n",
    "val_loss = history.history['val_loss']\n",
    "\n",
    "\n",
    "fig = plt.figure(figsize=(8, 8))\n",
    "plt.subplot(2, 1, 1)\n",
    "plt.plot(acc, label='Training Accuracy')\n",
    "plt.plot(val_acc, label='Validation Accuracy')\n",
    "plt.legend(loc='lower right')\n",
    "plt.ylabel('Accuracy')\n",
    "plt.ylim([min(plt.ylim()),1])\n",
    "plt.title('Training and Validation Accuracy')\n",
    "\n",
    "plt.subplot(2, 1, 2)\n",
    "plt.plot(loss, label='Training Loss')\n",
    "plt.plot(val_loss, label='Validation Loss')\n",
    "plt.legend(loc='upper right')\n",
    "plt.ylabel('Cross Entropy')\n",
    "plt.ylim([0,2.0])\n",
    "plt.title('Training and Validation Loss')\n",
    "plt.xlabel('epoch')\n",
    "plt.show()"
   ]
  },
  {
   "cell_type": "code",
   "execution_count": 100,
   "metadata": {},
   "outputs": [
    {
     "name": "stdout",
     "output_type": "stream",
     "text": [
      "INFO:tensorflow:Assets written to: tmp\\saved_models\\1605230894_valacc65perc_efficientnet\\assets\n"
     ]
    },
    {
     "name": "stderr",
     "output_type": "stream",
     "text": [
      "INFO:tensorflow:Assets written to: tmp\\saved_models\\1605230894_valacc65perc_efficientnet\\assets\n"
     ]
    }
   ],
   "source": [
    "t = time.time()\n",
    "\n",
    "# model_name = \"mobilenetV2\"\n",
    "model_name = \"efficientnet\"\n",
    "\n",
    "export_path = r\"tmp\\saved_models\\{}_valacc{}perc_{}\".format(int(t),int((val_acc[-1])*100),model_name)\n",
    "model.save(export_path)\n",
    "fig.savefig(export_path  + \"\\plot.png\")\n"
   ]
  }
 ],
 "metadata": {
  "kernelspec": {
   "display_name": "Python 3",
   "language": "python",
   "name": "python3"
  },
  "language_info": {
   "codemirror_mode": {
    "name": "ipython",
    "version": 3
   },
   "file_extension": ".py",
   "mimetype": "text/x-python",
   "name": "python",
   "nbconvert_exporter": "python",
   "pygments_lexer": "ipython3",
   "version": "3.7.4"
  }
 },
 "nbformat": 4,
 "nbformat_minor": 4
}
