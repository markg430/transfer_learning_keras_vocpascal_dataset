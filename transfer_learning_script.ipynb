{
 "cells": [
  {
   "cell_type": "code",
   "execution_count": 129,
   "metadata": {},
   "outputs": [
    {
     "name": "stdout",
     "output_type": "stream",
     "text": [
      "TF version: 2.3.1\n",
      "Hub version: 0.7.0\n",
      "GPU is available\n"
     ]
    }
   ],
   "source": [
    "%config IPCompleter.greedy=True\n",
    "\n",
    "import itertools\n",
    "import os, shutil\n",
    "import pandas as pd\n",
    "import time\n",
    "os.environ['TFHUB_MODEL_LOAD_FORMAT'] = 'COMPRESSED'\n",
    "\n",
    "import cv2\n",
    "import matplotlib.pylab as plt\n",
    "import numpy as np\n",
    "import tensorflow as tf\n",
    "from PIL import Image\n",
    "import tensorflow_hub as hub\n",
    "\n",
    "print(\"TF version:\", tf.__version__)\n",
    "print(\"Hub version:\", hub.__version__)\n",
    "print(\"GPU is\", \"available\" if tf.test.is_gpu_available() else \"NOT AVAILABLE\")\n",
    "\n",
    "IMAGE_SHAPE = (224,224)\n",
    "BATCH_SIZE = 32"
   ]
  },
  {
   "cell_type": "code",
   "execution_count": 70,
   "metadata": {},
   "outputs": [
    {
     "name": "stdout",
     "output_type": "stream",
     "text": [
      "{'person': 2008, 'car': 713, 'bus': 186, 'bicycle': 243, 'motorbike': 245, 'aeroplane': 238}\n",
      "{'person': 1208, 'car': 641, 'bus': 158, 'bicycle': 179, 'motorbike': 180, 'aeroplane': 231}\n",
      "{'person': 1208, 'car': 541, 'bus': 155, 'bicycle': 179, 'motorbike': 178, 'aeroplane': 230}\n"
     ]
    }
   ],
   "source": [
    "##### Get Voc Training Dataset\n",
    "voc_dir = r\"D:\\voc2007\"\n",
    "\n",
    "labels = [\"person\", \"car\", \"bus\", \"bicycle\", \"motorbike\", \"aeroplane\"]\n",
    "\n",
    "data_trainval_all = pd.DataFrame(columns=[\"img_id\"] + labels)\n",
    "\n",
    "# Get Dataset and put it into a table\n",
    "for i in range(len(labels)):\n",
    "    data_trainval = pd.read_csv(voc_dir + '\\ImageSets\\Main\\{}_trainval.txt'.format(labels[i]),header = None,index_col=False ,delim_whitespace=True, dtype={0:np.str, 1:np.int})\n",
    "    \n",
    "    if(i == 0):\n",
    "        data_trainval_all['img_id'] = data_trainval[0]\n",
    "\n",
    "    data_trainval_all[labels[i]] = data_trainval[1]\n",
    "\n",
    "# get no. objects in dataset + delete rows with no relative objects\n",
    "def remove_excluded_objects(data_trainval_all, labels):\n",
    "\n",
    "    rows_to_del_trainval = []\n",
    "    dataset_trainval_counter = {x:0 for x in labels}\n",
    "    \n",
    "    for i in range(len(data_trainval_all.index)):\n",
    "        row = data_trainval_all.iloc[i]\n",
    "        counter = 0\n",
    "        for label in labels:\n",
    "\n",
    "            if(row[label] == 1):\n",
    "                dataset_trainval_counter[label] += 1\n",
    "            elif(row[label] == -1):\n",
    "                counter += 1\n",
    "\n",
    "        if(counter == len(labels)):\n",
    "            rows_to_del_trainval.append(row['img_id'])\n",
    "\n",
    "    for img_id in rows_to_del_trainval:\n",
    "\n",
    "        data_trainval_all.drop(data_trainval_all.loc[data_trainval_all['img_id'] == img_id].index, inplace=True)\n",
    "\n",
    "            \n",
    "    print(dataset_trainval_counter)\n",
    "\n",
    "def number_of_objects(data_trainval_all, labels):\n",
    "    \n",
    "    dataset_trainval_counter = {x:0 for x in labels}\n",
    "    \n",
    "    for i in range(len(data_trainval_all.index)):\n",
    "        row = data_trainval_all.iloc[i]\n",
    "\n",
    "        for label in labels:\n",
    "\n",
    "            if(row[label] == 1):\n",
    "                dataset_trainval_counter[label] += 1\n",
    "            \n",
    "    print(dataset_trainval_counter)\n",
    "\n",
    "# delete rows with people to reduce bias\n",
    "def decrease_class_amount(data_trainval_all, object_name, delete_amount, labels):\n",
    "    rows_to_del_trainval = []\n",
    "\n",
    "    data_trainval_object = data_trainval_all.loc[data_trainval_all[object_name] == 1]\n",
    "    how_many_ofobject_to_delete = delete_amount\n",
    "    deleted_object = 0\n",
    "    \n",
    "    for i in range(len(data_trainval_object)):\n",
    "        \n",
    "        if(deleted_object == how_many_ofobject_to_delete):\n",
    "            break\n",
    "        \n",
    "        row = data_trainval_object.iloc[i]\n",
    "        rows_to_del_trainval.append(row['img_id'])\n",
    "        deleted_object += 1\n",
    "\n",
    "    for img_id in rows_to_del_trainval:\n",
    "\n",
    "        data_trainval_all.drop(data_trainval_all.loc[data_trainval_all['img_id'] == img_id].index, inplace=True)\n",
    "\n",
    "remove_excluded_objects(data_trainval_all,labels)\n",
    "# number_of_objects(data_trainval_all,labels)\n",
    "\n",
    "decrease_class_amount(data_trainval_all, \"person\", 800, labels)\n",
    "number_of_objects(data_trainval_all,labels)\n",
    "decrease_class_amount(data_trainval_all, \"car\", 100, labels)\n",
    "number_of_objects(data_trainval_all,labels)\n",
    "\n",
    "# make dataset a 80/20 split\n",
    "\n",
    "train_size = int(len(data_trainval_all.index)*0.85)\n",
    "val_size = len(data_trainval_all.index) - train_size\n",
    "\n",
    "data_train_all = data_trainval_all.iloc[:train_size]\n",
    "data_val_all = data_trainval_all.iloc[train_size:]\n"
   ]
  },
  {
   "cell_type": "code",
   "execution_count": 72,
   "metadata": {},
   "outputs": [
    {
     "name": "stdout",
     "output_type": "stream",
     "text": [
      "Finished Splitting Subfolders\n"
     ]
    }
   ],
   "source": [
    "# Make a script to seperate data into subfolders\n",
    "\n",
    "for label in labels:\n",
    "    try:\n",
    "        os.makedirs(voc_dir + r\"\\voc_submodules_train\\{}\".format(label))\n",
    "    except FileExistsError:\n",
    "        pass\n",
    "    \n",
    "    try:\n",
    "        os.makedirs(voc_dir + r\"\\voc_submodules_val\\{}\".format(label))\n",
    "    except FileExistsError:\n",
    "        pass\n",
    "\n",
    "    \n",
    "for i, row in data_train_all.iterrows():\n",
    "    for label in labels:\n",
    "        if(row[label] == 1):\n",
    "            shutil.copyfile(voc_dir + r'\\JPEGImages\\{}.jpg'.format(row['img_id']), \n",
    "                            voc_dir + r'\\voc_submodules_train\\{}\\{}.jpg'.format(label, row['img_id']) )\n",
    "            \n",
    "for i, row in data_val_all.iterrows():\n",
    "    for label in labels:\n",
    "        if(row[label] == 1):\n",
    "            shutil.copyfile(voc_dir + r'\\JPEGImages\\{}.jpg'.format(row['img_id']), \n",
    "                            voc_dir + r'\\voc_submodules_val\\{}\\{}.jpg'.format(label, row['img_id']) )\n",
    "\n",
    "print(\"Finished Splitting Subfolders\")\n"
   ]
  },
  {
   "cell_type": "code",
   "execution_count": 73,
   "metadata": {},
   "outputs": [
    {
     "name": "stdout",
     "output_type": "stream",
     "text": [
      "Found 2095 images belonging to 6 classes.\n",
      "Found 396 images belonging to 6 classes.\n"
     ]
    }
   ],
   "source": [
    "train_data_dir =voc_dir + r'\\voc_submodules_train\\\\'\n",
    "test_data_dir = voc_dir + r'\\voc_submodules_val\\\\'\n",
    "#try diff scale hyper params\n",
    "scale = 128 \n",
    "\n",
    "train_datagen = tf.keras.preprocessing.image.ImageDataGenerator(\n",
    "        rotation_range=40.,\n",
    "        width_shift_range = 0.2,\n",
    "        height_shift_range = 0.2,\n",
    "        rescale=1. / scale,\n",
    "        shear_range=0.2,\n",
    "        zoom_range=0.2,\n",
    "        horizontal_flip=True\n",
    "#         vertical_flip = True\n",
    "    )\n",
    "\n",
    "train_generator = train_datagen.flow_from_directory(\n",
    "        train_data_dir,\n",
    "        shuffle = True,\n",
    "        target_size=(IMAGE_SHAPE[0], IMAGE_SHAPE[1]),\n",
    "        batch_size=BATCH_SIZE,\n",
    "        class_mode='categorical')\n",
    "\n",
    "val_generator = train_datagen.flow_from_directory(\n",
    "        test_data_dir,\n",
    "        shuffle = True,\n",
    "        target_size=(IMAGE_SHAPE[0], IMAGE_SHAPE[1]),\n",
    "        batch_size=BATCH_SIZE,\n",
    "        class_mode='categorical')"
   ]
  },
  {
   "cell_type": "code",
   "execution_count": 124,
   "metadata": {},
   "outputs": [
    {
     "name": "stdout",
     "output_type": "stream",
     "text": [
      "Model: \"sequential_18\"\n",
      "_________________________________________________________________\n",
      "Layer (type)                 Output Shape              Param #   \n",
      "=================================================================\n",
      "keras_layer_18 (KerasLayer)  (None, 1280)              2257984   \n",
      "_________________________________________________________________\n",
      "dropout_14 (Dropout)         (None, 1280)              0         \n",
      "_________________________________________________________________\n",
      "dense_18 (Dense)             (None, 6)                 7686      \n",
      "=================================================================\n",
      "Total params: 2,265,670\n",
      "Trainable params: 7,686\n",
      "Non-trainable params: 2,257,984\n",
      "_________________________________________________________________\n"
     ]
    }
   ],
   "source": [
    "###### MobilenetV2\n",
    "classifier_model = \"https://tfhub.dev/google/imagenet/mobilenet_v2_100_224/feature_vector/4\"\n",
    "\n",
    "###### Efficientnet b0 -> for 224x224 images\n",
    "# classifier_model = \"https://tfhub.dev/tensorflow/efficientnet/b0/feature-vector/1\"\n",
    "# classifier_model = \"https://tfhub.dev/google/efficientnet/b0/feature-vector/1\"\n",
    "\n",
    "##### Resnet v50\n",
    "# classifier_model = \"https://tfhub.dev/google/imagenet/resnet_v2_50/feature_vector/4\"\n",
    "\n",
    "model = tf.keras.Sequential([\n",
    "    # input layer already specified in classifier\n",
    "    tf.keras.layers.InputLayer(input_shape=IMAGE_SHAPE + (3,)),\n",
    "    hub.KerasLayer(classifier_model, trainable=False),\n",
    "    tf.keras.layers.Dropout(rate=0.2),\n",
    "    tf.keras.layers.Dense(train_generator.num_classes, \n",
    "                        kernel_regularizer=tf.keras.regularizers.l2(0.0001))\n",
    "\n",
    "])\n",
    "\n",
    "# model.build([None,224,224,3])\n",
    "\n",
    "model.summary()"
   ]
  },
  {
   "cell_type": "code",
   "execution_count": 125,
   "metadata": {},
   "outputs": [],
   "source": [
    "# base_learning_rate = 0.0001\n",
    "\n",
    "model.compile(\n",
    "    optimizer=tf.keras.optimizers.Adam(),\n",
    "#     optimizer=tf.keras.optimizers.SGD(lr=0.005, momentum=0.9),\n",
    "    loss=tf.keras.losses.CategoricalCrossentropy(from_logits=True),\n",
    "    metrics=['accuracy'])"
   ]
  },
  {
   "cell_type": "code",
   "execution_count": 126,
   "metadata": {},
   "outputs": [
    {
     "name": "stdout",
     "output_type": "stream",
     "text": [
      "Epoch 1/30\n",
      "66/66 [==============================] - 30s 457ms/step - loss: 1.2738 - accuracy: 0.5599 - val_loss: 0.9882 - val_accuracy: 0.6338\n",
      "Epoch 2/30\n",
      "66/66 [==============================] - 29s 439ms/step - loss: 0.9425 - accuracy: 0.6625 - val_loss: 0.8363 - val_accuracy: 0.6793\n",
      "Epoch 3/30\n",
      "66/66 [==============================] - 29s 440ms/step - loss: 0.8761 - accuracy: 0.6821 - val_loss: 0.8604 - val_accuracy: 0.6566\n",
      "Epoch 4/30\n",
      "66/66 [==============================] - 29s 447ms/step - loss: 0.8433 - accuracy: 0.6931 - val_loss: 0.7818 - val_accuracy: 0.6692\n",
      "Epoch 5/30\n",
      "66/66 [==============================] - 30s 449ms/step - loss: 0.8007 - accuracy: 0.7084 - val_loss: 0.8119 - val_accuracy: 0.6742\n",
      "Epoch 6/30\n",
      "66/66 [==============================] - 30s 451ms/step - loss: 0.7810 - accuracy: 0.7141 - val_loss: 0.7831 - val_accuracy: 0.7222\n",
      "Epoch 7/30\n",
      "66/66 [==============================] - 30s 450ms/step - loss: 0.7897 - accuracy: 0.7136 - val_loss: 0.8630 - val_accuracy: 0.6717\n",
      "Epoch 8/30\n",
      "66/66 [==============================] - 29s 444ms/step - loss: 0.7337 - accuracy: 0.7241 - val_loss: 0.8042 - val_accuracy: 0.6793\n",
      "Epoch 9/30\n",
      "66/66 [==============================] - 29s 443ms/step - loss: 0.7585 - accuracy: 0.7251 - val_loss: 0.7815 - val_accuracy: 0.6843\n",
      "Epoch 10/30\n",
      "66/66 [==============================] - 29s 443ms/step - loss: 0.7393 - accuracy: 0.7174 - val_loss: 0.8011 - val_accuracy: 0.6843\n",
      "Epoch 11/30\n",
      "66/66 [==============================] - 29s 442ms/step - loss: 0.7467 - accuracy: 0.7098 - val_loss: 0.7638 - val_accuracy: 0.7045\n",
      "Epoch 12/30\n",
      "66/66 [==============================] - 30s 458ms/step - loss: 0.7339 - accuracy: 0.7232 - val_loss: 0.8179 - val_accuracy: 0.6742\n",
      "Epoch 13/30\n",
      "66/66 [==============================] - 30s 449ms/step - loss: 0.7289 - accuracy: 0.7255 - val_loss: 0.8203 - val_accuracy: 0.6843\n",
      "Epoch 14/30\n",
      "66/66 [==============================] - 30s 449ms/step - loss: 0.7222 - accuracy: 0.7212 - val_loss: 0.8104 - val_accuracy: 0.6869\n",
      "Epoch 15/30\n",
      "66/66 [==============================] - 30s 449ms/step - loss: 0.7089 - accuracy: 0.7212 - val_loss: 0.8539 - val_accuracy: 0.6970\n",
      "Epoch 16/30\n",
      "66/66 [==============================] - 29s 443ms/step - loss: 0.7217 - accuracy: 0.7241 - val_loss: 0.7752 - val_accuracy: 0.7045\n",
      "Epoch 17/30\n",
      "66/66 [==============================] - 29s 443ms/step - loss: 0.7030 - accuracy: 0.7270 - val_loss: 0.7878 - val_accuracy: 0.6869\n",
      "Epoch 18/30\n",
      "66/66 [==============================] - 29s 444ms/step - loss: 0.6753 - accuracy: 0.7394 - val_loss: 0.7827 - val_accuracy: 0.7045\n",
      "Epoch 19/30\n",
      "66/66 [==============================] - 29s 443ms/step - loss: 0.7082 - accuracy: 0.7212 - val_loss: 0.8094 - val_accuracy: 0.6616\n",
      "Epoch 20/30\n",
      "66/66 [==============================] - 29s 446ms/step - loss: 0.6910 - accuracy: 0.7217 - val_loss: 0.8109 - val_accuracy: 0.6869\n",
      "Epoch 21/30\n",
      "66/66 [==============================] - 30s 449ms/step - loss: 0.7115 - accuracy: 0.7260 - val_loss: 0.8081 - val_accuracy: 0.7020\n",
      "Epoch 22/30\n",
      "66/66 [==============================] - 31s 469ms/step - loss: 0.6552 - accuracy: 0.7408 - val_loss: 0.7507 - val_accuracy: 0.6995\n",
      "Epoch 23/30\n",
      "66/66 [==============================] - 30s 458ms/step - loss: 0.6937 - accuracy: 0.7313 - val_loss: 0.7760 - val_accuracy: 0.7096\n",
      "Epoch 24/30\n",
      "66/66 [==============================] - 30s 452ms/step - loss: 0.6954 - accuracy: 0.7308 - val_loss: 0.7960 - val_accuracy: 0.6843\n",
      "Epoch 25/30\n",
      "66/66 [==============================] - 30s 456ms/step - loss: 0.6769 - accuracy: 0.7327 - val_loss: 0.7727 - val_accuracy: 0.6944\n",
      "Epoch 26/30\n",
      "66/66 [==============================] - 29s 444ms/step - loss: 0.6797 - accuracy: 0.7370 - val_loss: 0.7993 - val_accuracy: 0.6818\n",
      "Epoch 27/30\n",
      "66/66 [==============================] - 29s 442ms/step - loss: 0.6759 - accuracy: 0.7465 - val_loss: 0.8295 - val_accuracy: 0.6944\n",
      "Epoch 28/30\n",
      "66/66 [==============================] - 29s 446ms/step - loss: 0.6897 - accuracy: 0.7370 - val_loss: 0.7752 - val_accuracy: 0.7071\n",
      "Epoch 29/30\n",
      "66/66 [==============================] - 30s 450ms/step - loss: 0.6984 - accuracy: 0.7241 - val_loss: 0.7742 - val_accuracy: 0.6995\n",
      "Epoch 30/30\n",
      "66/66 [==============================] - 29s 445ms/step - loss: 0.6711 - accuracy: 0.7298 - val_loss: 0.8195 - val_accuracy: 0.6869\n"
     ]
    }
   ],
   "source": [
    "history = model.fit(train_generator, \n",
    "                    epochs=30,\n",
    "                    validation_data= val_generator)"
   ]
  },
  {
   "cell_type": "code",
   "execution_count": 127,
   "metadata": {},
   "outputs": [
    {
     "data": {
      "image/png": "[encoded data removed]",
      "text/plain": [
       "<Figure size 576x576 with 2 Axes>"
      ]
     },
     "metadata": {
      "needs_background": "light"
     },
     "output_type": "display_data"
    }
   ],
   "source": [
    "acc = history.history['accuracy']\n",
    "val_acc = history.history['val_accuracy']\n",
    "\n",
    "loss = history.history['loss']\n",
    "val_loss = history.history['val_loss']\n",
    "\n",
    "plt.figure(figsize=(8, 8))\n",
    "plt.subplot(2, 1, 1)\n",
    "plt.plot(acc, label='Training Accuracy')\n",
    "plt.plot(val_acc, label='Validation Accuracy')\n",
    "plt.legend(loc='lower right')\n",
    "plt.ylabel('Accuracy')\n",
    "plt.ylim([min(plt.ylim()),1])\n",
    "plt.title('Training and Validation Accuracy')\n",
    "\n",
    "plt.subplot(2, 1, 2)\n",
    "plt.plot(loss, label='Training Loss')\n",
    "plt.plot(val_loss, label='Validation Loss')\n",
    "plt.legend(loc='upper right')\n",
    "plt.ylabel('Cross Entropy')\n",
    "plt.ylim([0,1.0])\n",
    "plt.title('Training and Validation Loss')\n",
    "plt.xlabel('epoch')\n",
    "plt.show()"
   ]
  },
  {
   "cell_type": "code",
   "execution_count": 140,
   "metadata": {},
   "outputs": [
    {
     "name": "stdout",
     "output_type": "stream",
     "text": [
      "INFO:tensorflow:Assets written to: tmp\\saved_models\\1604894586_valacc68perc\\assets\n"
     ]
    },
    {
     "name": "stderr",
     "output_type": "stream",
     "text": [
      "INFO:tensorflow:Assets written to: tmp\\saved_models\\1604894586_valacc68perc\\assets\n"
     ]
    }
   ],
   "source": [
    "t = time.time()\n",
    "\n",
    "export_path = r\"tmp\\saved_models\\{}_valacc{}perc_{}\".format(int(t),int(np.mean(val_acc)*100),\"mobilenetv2\")\n",
    "model.save(export_path)"
   ]
  }
 ],
 "metadata": {
  "kernelspec": {
   "display_name": "Python 3",
   "language": "python",
   "name": "python3"
  },
  "language_info": {
   "codemirror_mode": {
    "name": "ipython",
    "version": 3
   },
   "file_extension": ".py",
   "mimetype": "text/x-python",
   "name": "python",
   "nbconvert_exporter": "python",
   "pygments_lexer": "ipython3",
   "version": "3.7.4"
  }
 },
 "nbformat": 4,
 "nbformat_minor": 4
}
